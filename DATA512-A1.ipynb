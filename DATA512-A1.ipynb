{
 "cells": [
  {
   "cell_type": "code",
   "execution_count": 226,
   "metadata": {},
   "outputs": [],
   "source": [
    "import matplotlib.pyplot as plt\n",
    "import numpy as np\n",
    "import pandas as pd\n",
    "import random"
   ]
  },
  {
   "cell_type": "markdown",
   "metadata": {},
   "source": [
    "## Step 1: Data acquisition ##"
   ]
  },
  {
   "cell_type": "markdown",
   "metadata": {},
   "source": [
    "*---- [start] Code taken from course wiki ----*"
   ]
  },
  {
   "cell_type": "code",
   "execution_count": 227,
   "metadata": {},
   "outputs": [],
   "source": [
    "import json\n",
    "import requests"
   ]
  },
  {
   "cell_type": "code",
   "execution_count": 228,
   "metadata": {},
   "outputs": [],
   "source": [
    "endpoint_legacy = 'https://wikimedia.org/api/rest_v1/metrics/legacy/pagecounts/aggregate/{project}/{access-site}/{granularity}/{start}/{end}'\n",
    "\n",
    "endpoint_pageviews = 'https://wikimedia.org/api/rest_v1/metrics/pageviews/aggregate/{project}/{access}/{agent}/{granularity}/{start}/{end}'"
   ]
  },
  {
   "cell_type": "code",
   "execution_count": 229,
   "metadata": {},
   "outputs": [],
   "source": [
    "# SAMPLE parameters for getting aggregated legacy view data \n",
    "# see: https://wikimedia.org/api/rest_v1/#!/Legacy_data/get_metrics_legacy_pagecounts_aggregate_project_access_site_granularity_start_end\n",
    "example_params_legacy = {\"project\" : \"en.wikipedia.org\",\n",
    "                 \"access-site\" : \"desktop-site\",\n",
    "                 \"granularity\" : \"monthly\",\n",
    "                 \"start\" : \"2001010100\",\n",
    "                # for end use 1st day of month following final month of data\n",
    "                 \"end\" : \"2018100100\"\n",
    "                    }\n",
    "\n",
    "# SAMPLE parameters for getting aggregated current standard pageview data\n",
    "# see: https://wikimedia.org/api/rest_v1/#!/Pageviews_data/get_metrics_pageviews_aggregate_project_access_agent_granularity_start_end\n",
    "example_params_pageviews = {\"project\" : \"en.wikipedia.org\",\n",
    "                    \"access\" : \"desktop\",\n",
    "                    \"agent\" : \"user\",\n",
    "                    \"granularity\" : \"monthly\",\n",
    "                    \"start\" : \"2001010100\",\n",
    "                    # for end use 1st day of month following final month of data\n",
    "                    \"end\" : '2018101000'\n",
    "                        }\n",
    "\n",
    "# Customize these with your own information\n",
    "headers = {\n",
    "    'User-Agent': 'https://github.com/winnawat',\n",
    "    'From': 'nawats@uw.edu'\n",
    "}"
   ]
  },
  {
   "cell_type": "code",
   "execution_count": 230,
   "metadata": {},
   "outputs": [],
   "source": [
    "def api_call(endpoint,parameters):\n",
    "    call = requests.get(endpoint.format(**parameters), headers=headers)\n",
    "    response = call.json()\n",
    "    \n",
    "    return response"
   ]
  },
  {
   "cell_type": "code",
   "execution_count": 231,
   "metadata": {},
   "outputs": [],
   "source": [
    "example_monthly_pageviews = api_call(endpoint_pageviews, example_params_pageviews)"
   ]
  },
  {
   "cell_type": "code",
   "execution_count": 232,
   "metadata": {},
   "outputs": [],
   "source": [
    "example_monthly_legacy = api_call(endpoint_legacy, example_params_legacy)"
   ]
  },
  {
   "cell_type": "markdown",
   "metadata": {},
   "source": [
    "*---- [end]Code taken from course wiki ----*"
   ]
  },
  {
   "cell_type": "markdown",
   "metadata": {},
   "source": [
    "Taking a quick look at the format of the JSON objects generated."
   ]
  },
  {
   "cell_type": "code",
   "execution_count": 233,
   "metadata": {},
   "outputs": [
    {
     "name": "stdout",
     "output_type": "stream",
     "text": [
      "[{'project': 'en.wikipedia', 'access-site': 'desktop-site', 'granularity': 'monthly', 'timestamp': '2015040100', 'count': 6198945657}]\n",
      "[{'project': 'en.wikipedia', 'access-site': 'desktop-site', 'granularity': 'monthly', 'timestamp': '2008120100', 'count': 5211708451}]\n",
      "[{'project': 'en.wikipedia', 'access-site': 'desktop-site', 'granularity': 'monthly', 'timestamp': '2016020100', 'count': 5347709361}]\n",
      "[{'project': 'en.wikipedia', 'access-site': 'desktop-site', 'granularity': 'monthly', 'timestamp': '2009110100', 'count': 5768486910}]\n"
     ]
    }
   ],
   "source": [
    "for i in range(0,4):\n",
    "    sampleitem = random.sample(list(example_monthly_legacy.items())[0][1], 1)\n",
    "    print (sampleitem)"
   ]
  },
  {
   "cell_type": "code",
   "execution_count": 234,
   "metadata": {},
   "outputs": [
    {
     "name": "stdout",
     "output_type": "stream",
     "text": [
      "[{'project': 'en.wikipedia', 'access': 'desktop', 'agent': 'user', 'granularity': 'monthly', 'timestamp': '2015120100', 'views': 4100012037}]\n",
      "[{'project': 'en.wikipedia', 'access': 'desktop', 'agent': 'user', 'granularity': 'monthly', 'timestamp': '2018020100', 'views': 3634653694}]\n",
      "[{'project': 'en.wikipedia', 'access': 'desktop', 'agent': 'user', 'granularity': 'monthly', 'timestamp': '2015090100', 'views': 4485491704}]\n",
      "[{'project': 'en.wikipedia', 'access': 'desktop', 'agent': 'user', 'granularity': 'monthly', 'timestamp': '2017080100', 'views': 3575572313}]\n"
     ]
    }
   ],
   "source": [
    "for i in range(0,4):\n",
    "    sampleitem = random.sample(list(example_monthly_pageviews.items())[0][1], 1)\n",
    "    print (sampleitem)"
   ]
  },
  {
   "cell_type": "markdown",
   "metadata": {},
   "source": [
    "Setting up the parameters of the API calls."
   ]
  },
  {
   "cell_type": "code",
   "execution_count": 235,
   "metadata": {},
   "outputs": [],
   "source": [
    "params_legacy_desktop = {\"project\" : \"en.wikipedia.org\",\n",
    "                         \"access-site\" : \"desktop-site\",\n",
    "                         \"granularity\" : \"monthly\",\n",
    "                         \"start\" : \"2001010100\",\n",
    "                         # for end use 1st day of month following final month of data\n",
    "                         \"end\" : \"2019090100\"\n",
    "                        }\n",
    "params_legacy_mobile = {\"project\" : \"en.wikipedia.org\",\n",
    "                        \"access-site\" : \"mobile-site\",\n",
    "                        \"granularity\" : \"monthly\",\n",
    "                        \"start\" : \"2001010100\",\n",
    "                        # for end use 1st day of month following final month of data\n",
    "                        \"end\" : \"2019090100\"\n",
    "                       }\n",
    "params_pageviews_desktop = {\"project\" : \"en.wikipedia.org\",\n",
    "                            \"access\" : \"desktop\",\n",
    "                            \"agent\" : \"user\",\n",
    "                            \"granularity\" : \"monthly\",\n",
    "                            \"start\" : \"2001010100\",\n",
    "                            # for end use 1st day of month following final month of data\n",
    "                            \"end\" : '2019091000'\n",
    "                           }\n",
    "params_pageviews_mobileweb = {\"project\" : \"en.wikipedia.org\",\n",
    "                            \"access\" : \"mobile-web\",\n",
    "                            \"agent\" : \"user\",\n",
    "                            \"granularity\" : \"monthly\",\n",
    "                            \"start\" : \"2001010100\",\n",
    "                            # for end use 1st day of month following final month of data\n",
    "                            \"end\" : '2019091000'\n",
    "                           }\n",
    "params_pageviews_mobileapp = {\"project\" : \"en.wikipedia.org\",\n",
    "                            \"access\" : \"mobile-app\",\n",
    "                            \"agent\" : \"user\",\n",
    "                            \"granularity\" : \"monthly\",\n",
    "                            \"start\" : \"2001010100\",\n",
    "                            # for end use 1st day of month following final month of data\n",
    "                            \"end\" : '2019091000'\n",
    "                           }"
   ]
  },
  {
   "cell_type": "markdown",
   "metadata": {},
   "source": [
    "Making the API calls."
   ]
  },
  {
   "cell_type": "code",
   "execution_count": 236,
   "metadata": {},
   "outputs": [],
   "source": [
    "pagecount_desktop = api_call(endpoint_legacy, params_legacy_desktop)\n",
    "pagecount_mobile = api_call(endpoint_legacy, params_legacy_mobile)\n",
    "pageviews_desktop = api_call(endpoint_pageviews, params_pageviews_desktop)\n",
    "pageviews_mobileweb = api_call(endpoint_pageviews, params_pageviews_mobileweb)\n",
    "pageviews_mobileapp = api_call(endpoint_pageviews, params_pageviews_mobileapp)"
   ]
  },
  {
   "cell_type": "markdown",
   "metadata": {},
   "source": [
    "Saving the data collected as JSON files"
   ]
  },
  {
   "cell_type": "code",
   "execution_count": 237,
   "metadata": {},
   "outputs": [],
   "source": [
    "with open(\"pagecounts_desktop-site_200712-201909.json\", 'w') as fp:\n",
    "    json.dump(pagecount_desktop['items'], fp)\n",
    "with open(\"pagecounts_mobile-site_200712-201909.json\", 'w') as fp:\n",
    "    json.dump(pagecount_mobile['items'], fp)\n",
    "with open(\"pageview_desktop_200712-201909.json\", 'w') as fp:\n",
    "    json.dump(pageviews_desktop['items'], fp)\n",
    "with open(\"pageview_mobile-web_200712-201909.json\", 'w') as fp:\n",
    "    json.dump(pageviews_mobileweb['items'], fp)\n",
    "with open(\"pageview_mobile-app_200712-201909.json\", 'w') as fp:\n",
    "    json.dump(pageviews_mobileapp['items'], fp)"
   ]
  },
  {
   "cell_type": "markdown",
   "metadata": {},
   "source": [
    "(lifted from the course wiki)\n",
    "\n",
    "#### Required deliverables ####\n",
    "A directory in your GitHub repository called data-512-a1 that contains the following files:\n",
    "\n",
    "- 5 source data files in JSON format that follow the specified naming convention.\n",
    "    - `apiname_accesstype_firstmonth-lastmonth.json`\n",
    "    - `pagecounts_desktop-site_200712-201909.json`\n",
    "    - `pagecounts_mobile-site_200712-201909.json`\n",
    "    - `pageview_desktop_200712-201908.json`\n",
    "    - `pageview_mobile-web_200712-201908.json`\n",
    "    - `pageview_mobile-app_200712-201908.json`\n",
    "- 1 final data file in CSV format that follows the specified naming convention.\n",
    "    - `en-wikipedia_traffic_200712-201809.csv`\n",
    "- 1 Jupyter notebook named `hcds-a1-data-curation` that contains all code as well as information necessary to understand each programming step.\n",
    "- 1 README file in .txt or .md format that contains information to reproduce the analysis, including data descriptions, attributions and provenance information, and descriptions of all relevant resources and documentation (inside and outside the repo) and hyperlinks to those resources.\n",
    "- 1 LICENSE file that contains an MIT LICENSE for your code.\n",
    "- 1 .png or .jpeg image of your visualization."
   ]
  },
  {
   "cell_type": "markdown",
   "metadata": {},
   "source": [
    "## Step 2: Data processing ##"
   ]
  },
  {
   "cell_type": "markdown",
   "metadata": {},
   "source": [
    "Writing a function to format the timestamp properly. Extracting only month and year, and removing extra zeroes at the end of the timestamp number."
   ]
  },
  {
   "cell_type": "code",
   "execution_count": 238,
   "metadata": {},
   "outputs": [],
   "source": [
    "def formatdatetime(df):\n",
    "    df['timestamp'] = df.timestamp.astype('int').astype('str').str[:8]\n",
    "    df['timestamp'] = pd.to_datetime(df['timestamp'])\n",
    "    df[\"month\"] = df[\"timestamp\"].map(lambda x: x.month)\n",
    "    df[\"year\"] = df[\"timestamp\"].map(lambda x: x.year)\n",
    "    return df"
   ]
  },
  {
   "cell_type": "markdown",
   "metadata": {},
   "source": [
    "Reading the JSON files generated, format the timestamp column and generate month and year columns"
   ]
  },
  {
   "cell_type": "code",
   "execution_count": 239,
   "metadata": {},
   "outputs": [],
   "source": [
    "pc_desktop = pd.read_json(\"pagecounts_desktop-site_200712-201909.json\")\n",
    "pc_mobile = pd.read_json(\"pagecounts_mobile-site_200712-201909.json\")\n",
    "pv_desktop = pd.read_json(\"pageview_desktop_200712-201909.json\")\n",
    "pv_mobileweb = pd.read_json(\"pageview_mobile-web_200712-201909.json\")\n",
    "pv_mobileapp = pd.read_json(\"pageview_mobile-app_200712-201909.json\")\n",
    "\n",
    "pc_desktop = formatdatetime(pc_desktop)\n",
    "pc_mobile = formatdatetime(pc_mobile)\n",
    "pv_desktop = formatdatetime(pv_desktop)\n",
    "pv_mobileweb = formatdatetime(pv_mobileweb)\n",
    "pv_mobileapp = formatdatetime(pv_mobileapp)"
   ]
  },
  {
   "cell_type": "markdown",
   "metadata": {},
   "source": [
    "Aggregating(sum) the data according to month and year for 5 JSON files read above."
   ]
  },
  {
   "cell_type": "code",
   "execution_count": 240,
   "metadata": {},
   "outputs": [],
   "source": [
    "pc_desktop_agg = pd.DataFrame(pc_desktop.groupby([\"year\", \"month\"])[\"count\"].sum())\n",
    "pc_desktop_agg.reset_index(inplace=True)\n",
    "pc_desktop_agg.rename(columns={\"count\":\"pagecount_desktop_views\"}, inplace=True)\n",
    "pc_mobile_agg = pd.DataFrame(pc_mobile.groupby([\"year\", \"month\"])[\"count\"].sum())\n",
    "pc_mobile_agg.reset_index(inplace=True)\n",
    "pc_mobile_agg.rename(columns={\"count\":\"pagecount_mobile_views\"},inplace=True)\n",
    "\n",
    "pv_desktop_agg = pd.DataFrame(pv_desktop.groupby([\"year\", \"month\"])[\"views\"].sum())\n",
    "pv_desktop_agg.reset_index(inplace=True)\n",
    "pv_desktop_agg.rename(columns={\"views\":\"pageview_desktop_views\"},inplace=True)\n",
    "pv_mobileweb_agg = pd.DataFrame(pv_mobileweb.groupby([\"year\", \"month\"])[\"views\"].sum())\n",
    "pv_mobileweb_agg.reset_index(inplace=True)\n",
    "pv_mobileapp_agg = pd.DataFrame(pv_mobileapp.groupby([\"year\", \"month\"])[\"views\"].sum())\n",
    "pv_mobileapp_agg.reset_index(inplace=True)"
   ]
  },
  {
   "cell_type": "markdown",
   "metadata": {},
   "source": [
    "For pageviews, mobile data comes in two files, app and web. In this analysis, we treat both types of views as mobile views. Therefore, they have to be combined."
   ]
  },
  {
   "cell_type": "code",
   "execution_count": 241,
   "metadata": {},
   "outputs": [],
   "source": [
    "pv_mobile_agg = pv_mobileweb_agg\n",
    "pv_mobile_agg[\"views\"] = pv_mobile_agg[\"views\"] + pv_mobileapp_agg[\"views\"]\n",
    "pv_mobile_agg.rename(columns={\"views\":\"pageview_mobile_views\"},inplace=True)"
   ]
  },
  {
   "cell_type": "markdown",
   "metadata": {},
   "source": [
    "Merging all the 5 aggregated files into one final CSV file.\n",
    "Also, the missing data are replaced with 0.\n",
    "Since the page view values are in the scale of millions, their counts are divided by 1,000,000 for easier representation."
   ]
  },
  {
   "cell_type": "code",
   "execution_count": 242,
   "metadata": {},
   "outputs": [],
   "source": [
    "final_csv = pd.merge(pc_desktop_agg, pc_mobile_agg, on=([\"year\", \"month\"]), how='outer')\n",
    "final_csv = pd.merge(final_csv, pv_desktop_agg, on=([\"year\", \"month\"]), how='outer')\n",
    "final_csv = pd.merge(final_csv, pv_mobile_agg, on=([\"year\", \"month\"]), how='outer')\n",
    "final_csv[\"pagecount_all_views\"] = final_csv[\"pagecount_desktop_views\"].fillna(0) + final_csv[\"pagecount_mobile_views\"].fillna(0)\n",
    "final_csv[\"pageview_all_views\"] = final_csv[\"pageview_desktop_views\"].fillna(0) + final_csv[\"pageview_mobile_views\"].fillna(0)\n",
    "final_csv = final_csv.fillna(0)\n",
    "final_csv['pagecount_desktop_views'] = final_csv['pagecount_desktop_views']/1000000\n",
    "final_csv['pagecount_mobile_views'] = final_csv['pagecount_mobile_views']/1000000\n",
    "final_csv['pageview_desktop_views'] = final_csv['pageview_desktop_views']/1000000\n",
    "final_csv['pageview_mobile_views'] = final_csv['pageview_mobile_views']/1000000\n",
    "final_csv['pagecount_all_views'] = final_csv['pagecount_all_views']/1000000\n",
    "final_csv['pageview_all_views'] = final_csv['pageview_all_views']/1000000"
   ]
  },
  {
   "cell_type": "code",
   "execution_count": 243,
   "metadata": {},
   "outputs": [],
   "source": [
    "# final_csv"
   ]
  },
  {
   "cell_type": "markdown",
   "metadata": {},
   "source": [
    "Saving the CSV file."
   ]
  },
  {
   "cell_type": "code",
   "execution_count": 244,
   "metadata": {},
   "outputs": [],
   "source": [
    "final_csv.to_csv(\"en-wikipedia_traffic_200712-201908.csv\")"
   ]
  },
  {
   "cell_type": "markdown",
   "metadata": {},
   "source": [
    "## Step 3: Analysis ##"
   ]
  },
  {
   "cell_type": "markdown",
   "metadata": {},
   "source": [
    "In order to plot the views by month, we have to combine the year and month into one single date time column. Zeroes will also cause erranous visualizaiton, so they are replaced with NaN."
   ]
  },
  {
   "cell_type": "code",
   "execution_count": 245,
   "metadata": {},
   "outputs": [],
   "source": [
    "final_csv[\"date\"] = pd.to_datetime(final_csv[[\"year\", \"month\"]].assign(Day=1))\n",
    "final_csv.replace(0, np.nan, inplace=True)"
   ]
  },
  {
   "cell_type": "markdown",
   "metadata": {},
   "source": [
    "Plotting the data, show the plot and save to PNG file."
   ]
  },
  {
   "cell_type": "code",
   "execution_count": 253,
   "metadata": {},
   "outputs": [
    {
     "name": "stderr",
     "output_type": "stream",
     "text": [
      "/usr/lib/python3/dist-packages/matplotlib/legend.py:588: UserWarning: The handle <matplotlib.lines.Line2D object at 0x7fc28aa72160> has a label of '_nolegend_' which cannot be automatically added to the legend.\n",
      "  'legend.'.format(handle, label))\n",
      "/usr/lib/python3/dist-packages/matplotlib/legend.py:588: UserWarning: The handle <matplotlib.lines.Line2D object at 0x7fc28a1450b8> has a label of '_nolegend_' which cannot be automatically added to the legend.\n",
      "  'legend.'.format(handle, label))\n",
      "/usr/lib/python3/dist-packages/matplotlib/legend.py:588: UserWarning: The handle <matplotlib.lines.Line2D object at 0x7fc28ece8e10> has a label of '_nolegend_' which cannot be automatically added to the legend.\n",
      "  'legend.'.format(handle, label))\n"
     ]
    },
    {
     "data": {
      "image/png": "[encoded data removed]",
      "text/plain": [
       "<matplotlib.figure.Figure at 0x7fc29071ca58>"
      ]
     },
     "metadata": {
      "needs_background": "light"
     },
     "output_type": "display_data"
    }
   ],
   "source": [
    "ax = plt.gca()\n",
    "\n",
    "final_csv.plot(kind='line',x='date',y='pagecount_desktop_views', color='green', linestyle='--', label=\"main site\", ax=ax)\n",
    "final_csv.plot(kind='line',x='date',y='pagecount_mobile_views', color='blue', linestyle='--', label=\"mobile sidte\", ax=ax)\n",
    "final_csv.plot(kind='line',x='date',y='pageview_desktop_views', color='green', label='_nolegend_', ax=ax)\n",
    "final_csv.plot(kind='line',x='date',y='pageview_mobile_views', color='blue', label='_nolegend_', ax=ax)\n",
    "final_csv.plot(kind='line',x='date',y='pagecount_all_views', color='black', linestyle='--', label=\"total\", ax=ax)\n",
    "final_csv.plot(kind='line',x='date',y='pageview_all_views', color='black', label='_nolegend_', ax=ax)\n",
    "plt.grid()\n",
    "plt.title(\"Page views on English Wikipedia (x 1,000,000)\")\n",
    "plt.savefig(\"visualization.png\")\n",
    "plt.show()"
   ]
  },
  {
   "cell_type": "code",
   "execution_count": null,
   "metadata": {},
   "outputs": [],
   "source": []
  }
 ],
 "metadata": {
  "kernelspec": {
   "display_name": "Python 3",
   "language": "python",
   "name": "python3"
  },
  "language_info": {
   "codemirror_mode": {
    "name": "ipython",
    "version": 3
   },
   "file_extension": ".py",
   "mimetype": "text/x-python",
   "name": "python",
   "nbconvert_exporter": "python",
   "pygments_lexer": "ipython3",
   "version": "3.6.7"
  }
 },
 "nbformat": 4,
 "nbformat_minor": 2
}
